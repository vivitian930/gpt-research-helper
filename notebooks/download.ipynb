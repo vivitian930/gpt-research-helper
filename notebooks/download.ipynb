{
 "cells": [
  {
   "cell_type": "code",
   "execution_count": 23,
   "metadata": {},
   "outputs": [
    {
     "name": "stdout",
     "output_type": "stream",
     "text": [
      "Downloading papers... 5.0%\n",
      "Downloading papers... 10.0%\n",
      "Downloading papers... 15.0%\n",
      "Downloading papers... 20.0%\n",
      "Downloading papers... 25.0%\n",
      "Downloading papers... 30.0%\n",
      "Downloading papers... 35.0%\n",
      "Downloading papers... 40.0%\n",
      "Downloading papers... 45.0%\n",
      "Downloading papers... 50.0%\n",
      "Downloading papers... 55.00000000000001%\n",
      "Downloading papers... 60.0%\n",
      "Downloading papers... 65.0%\n",
      "Downloading papers... 70.0%\n",
      "Downloading papers... 75.0%\n",
      "Downloading papers... 80.0%\n",
      "Downloading papers... 85.0%\n",
      "Downloading papers... 90.0%\n",
      "Downloading papers... 95.0%\n",
      "Downloading papers... 100.0%\n",
      "Download completed.\n"
     ]
    }
   ],
   "source": [
    "import sys\n",
    "import os\n",
    "import requests\n",
    "from bs4 import BeautifulSoup\n",
    "from arxiv import Search\n",
    "import re\n",
    "\n",
    "def prompt_user():\n",
    "    return input(\"Enter a search query: \")\n",
    "\n",
    "def display_progress(progress):\n",
    "    print(f\"Downloading papers... {progress}%\")\n",
    "\n",
    "def display_results(results):\n",
    "    for result in results:\n",
    "        print(result)\n",
    "\n",
    "def display_error(error):\n",
    "    print(f\"Error: {error}\")\n",
    "\n",
    "def display_completion():\n",
    "    print(\"Download completed.\")\n",
    "\n",
    "def search_google_scholar(query):\n",
    "    url = f\"https://scholar.google.com/scholar?q={query}&hl=en\"\n",
    "    response = requests.get(url)\n",
    "    soup = BeautifulSoup(response.content, 'html.parser')\n",
    "    results = []\n",
    "    for result in soup.find_all('div', class_='gs_r gs_or gs_scl'):\n",
    "        try:\n",
    "            title = result.find('h3', class_='gs_rt').text\n",
    "            url = result.find('a')['href']\n",
    "            results.append({'title': title, 'url': url})\n",
    "        except:\n",
    "            continue\n",
    "    return results\n",
    "\n",
    "def search_arxiv(query):\n",
    "    results = Search(query=query, max_results=10).results()\n",
    "    formatted_results = []\n",
    "    for result in results:\n",
    "        title = result.title\n",
    "        url = result.pdf_url\n",
    "        formatted_results.append({'title': title, 'url': url})\n",
    "    return formatted_results\n",
    "\n",
    "def combine_metadata(google_scholar_metadata, arxiv_metadata):\n",
    "    return google_scholar_metadata + arxiv_metadata\n",
    "\n",
    "def sanitize_filename(filename):\n",
    "    # Remove special characters and replace spaces with underscores\n",
    "    filename = re.sub(r\"[^\\w\\s-]\", \"\", filename)\n",
    "    filename = re.sub(r\"\\s+\", \"_\", filename)\n",
    "    return filename\n",
    "\n",
    "def download_paper(url, filename):\n",
    "    response = requests.get(url)\n",
    "    if response.status_code == 200:\n",
    "        sanitized_filename = sanitize_filename(filename)\n",
    "        with open(f\"./papers/{sanitized_filename}.pdf\", 'wb') as file:\n",
    "            file.write(response.content)\n",
    "\n",
    "def download_papers(metadata):\n",
    "    total_papers = len(metadata)\n",
    "    for i, paper in enumerate(metadata, 1):\n",
    "        title = paper['title']\n",
    "        url = paper['url']\n",
    "        filename = f\"{title}.pdf\"\n",
    "        download_paper(url, filename)\n",
    "        progress = (i / total_papers) * 100\n",
    "        display_progress(progress)\n",
    "    display_completion()\n",
    "\n",
    "def main():\n",
    "    search_query = prompt_user()\n",
    "    google_scholar_metadata = search_google_scholar(search_query)\n",
    "    arxiv_metadata = search_arxiv(search_query)\n",
    "    combined_metadata = combine_metadata(google_scholar_metadata, arxiv_metadata)\n",
    "    download_papers(combined_metadata)\n",
    "\n",
    "if __name__ == \"__main__\":\n",
    "    main()"
   ]
  },
  {
   "cell_type": "code",
   "execution_count": 20,
   "metadata": {},
   "outputs": [],
   "source": [
    "search_query = prompt_user()\n",
    "google_scholar_metadata = search_google_scholar(search_query)\n",
    "arxiv_metadata = search_arxiv(search_query)\n",
    "combined_metadata = combine_metadata(google_scholar_metadata, arxiv_metadata)\n",
    "# download_papers(combined_metadata)"
   ]
  },
  {
   "cell_type": "code",
   "execution_count": 21,
   "metadata": {},
   "outputs": [
    {
     "data": {
      "text/plain": [
       "[{'title': 'Raman spectroscopy for cancer detection: a review',\n",
       "  'url': 'https://ieeexplore.ieee.org/abstract/document/756895/'},\n",
       " {'title': 'Raman spectroscopy for cancer detection and cancer surgery guidance: translation to the clinics',\n",
       "  'url': 'https://pubs.rsc.org/en/content/articlehtml/2017/an/c7an00957g'},\n",
       " {'title': '[HTML][HTML] Raman spectroscopy for medical diagnostics—From in-vitro biofluid assays to in-vivo cancer detection',\n",
       "  'url': 'https://www.sciencedirect.com/science/article/pii/S0169409X15000447'},\n",
       " {'title': 'Intraoperative brain cancer detection with Raman spectroscopy in humans',\n",
       "  'url': 'https://www.researchgate.net/profile/Frederic-Leblond/publication/273777320_Intraoperative_brain_cancer_detection_with_Raman_spectroscopy_in_humans/links/55109b150cf20352196c2477/Intraoperative-brain-cancer-detection-with-Raman-spectroscopy-in-humans.pdf'},\n",
       " {'title': 'Resonance Raman and Raman spectroscopy for breast cancer detection',\n",
       "  'url': 'https://journals.sagepub.com/doi/pdf/10.7785/tcrt.2012.500325'},\n",
       " {'title': 'Cervical cancer detection based on serum sample Raman spectroscopy',\n",
       "  'url': 'https://link.springer.com/article/10.1007/s10103-013-1447-6'},\n",
       " {'title': 'Nasopharyngeal cancer detection based on blood plasma surface-enhanced Raman spectroscopy and multivariate analysis',\n",
       "  'url': 'https://www.sciencedirect.com/science/article/pii/S095656631000151X'},\n",
       " {'title': '[HTML][HTML] The clinical application of Raman spectroscopy for breast cancer detection',\n",
       "  'url': 'https://www.hindawi.com/journals/jspec/2017/5383948/abs/'},\n",
       " {'title': 'Label-free surface enhanced raman spectroscopy for cancer detection',\n",
       "  'url': 'https://www.mdpi.com/2072-6694/14/20/5021/pdf'},\n",
       " {'title': 'Real‐time endoscopic Raman spectroscopy for in vivo early lung cancer detection',\n",
       "  'url': 'https://onlinelibrary.wiley.com/doi/abs/10.1002/jbio.201500204'}]"
      ]
     },
     "execution_count": 21,
     "metadata": {},
     "output_type": "execute_result"
    }
   ],
   "source": [
    "google_scholar_metadata"
   ]
  },
  {
   "cell_type": "code",
   "execution_count": 22,
   "metadata": {},
   "outputs": [
    {
     "data": {
      "text/plain": [
       "[{'title': 'Machine Learning Characterization of Cancer Patients-Derived Extracellular Vesicles using Vibrational Spectroscopies',\n",
       "  'url': 'http://arxiv.org/pdf/2107.10332v9'},\n",
       " {'title': 'Applications of Raman Spectroscopy in Clinical Medicine',\n",
       "  'url': 'http://arxiv.org/pdf/2304.07740v1'},\n",
       " {'title': 'Feature Fusion of Raman Chemical Imaging and Digital Histopathology using Machine Learning for Prostate Cancer Detection',\n",
       "  'url': 'http://arxiv.org/pdf/2101.07342v1'},\n",
       " {'title': 'Nonscanning large-area Raman imaging for ex vivo/in vivo skin cancer discrimination',\n",
       "  'url': 'http://arxiv.org/pdf/1810.03363v1'},\n",
       " {'title': 'Integrated Photodynamic Raman Theranostics for Cancer Diagnosis, Treatment, and Post-Treatment Molecular Monitoring',\n",
       "  'url': 'http://arxiv.org/pdf/2009.04222v1'},\n",
       " {'title': 'Malignancy Induced Subtle Perturbation Sensitive Raman Scattering for Glioma Detection and Grading',\n",
       "  'url': 'http://arxiv.org/pdf/2005.02638v1'},\n",
       " {'title': 'Fast stimulated Raman imaging for intraoperative gastro-intestinal cancer detection',\n",
       "  'url': 'http://arxiv.org/pdf/1902.08859v1'},\n",
       " {'title': 'Fluorescence-Guided Raman Spectroscopy for Tumour Margin Delineation',\n",
       "  'url': 'http://arxiv.org/pdf/2009.11652v1'},\n",
       " {'title': 'Label-free Raman spectroscopy and machine learning enables sensitive evaluation of differential response to immunotherapy',\n",
       "  'url': 'http://arxiv.org/pdf/2011.05304v1'},\n",
       " {'title': 'Optical detection of cancer stages via partial wave spectroscopy (PWS) using tissue microarrays (TMA) samples',\n",
       "  'url': 'http://arxiv.org/pdf/2012.14194v1'}]"
      ]
     },
     "execution_count": 22,
     "metadata": {},
     "output_type": "execute_result"
    }
   ],
   "source": [
    "arxiv_metadata"
   ]
  },
  {
   "cell_type": "code",
   "execution_count": null,
   "metadata": {},
   "outputs": [],
   "source": []
  }
 ],
 "metadata": {
  "kernelspec": {
   "display_name": ".venv",
   "language": "python",
   "name": "python3"
  },
  "language_info": {
   "codemirror_mode": {
    "name": "ipython",
    "version": 3
   },
   "file_extension": ".py",
   "mimetype": "text/x-python",
   "name": "python",
   "nbconvert_exporter": "python",
   "pygments_lexer": "ipython3",
   "version": "3.10.12"
  },
  "orig_nbformat": 4
 },
 "nbformat": 4,
 "nbformat_minor": 2
}
